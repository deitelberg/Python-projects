{
 "cells": [
  {
   "cell_type": "code",
   "execution_count": 65,
   "metadata": {},
   "outputs": [],
   "source": [
    "polygons = '../Data_from_Teddy/unzipped/CountyBoundary2013/CountyBoundary2013.shp'"
   ]
  },
  {
   "cell_type": "code",
   "execution_count": 159,
   "metadata": {},
   "outputs": [],
   "source": [
    "import os\n",
    "import geopandas as gp\n",
    "from IPython.display import Markdown, display, HTML\n",
    "from pandas import DataFrame\n",
    "from tabulate import tabulate"
   ]
  },
  {
   "cell_type": "code",
   "execution_count": 160,
   "metadata": {},
   "outputs": [],
   "source": [
    "def printmd(string, color=None):\n",
    "    colorstr = \"<span style='color:{}'>{}</span>\".format(color, string)\n",
    "    display(Markdown(colorstr))"
   ]
  },
  {
   "cell_type": "code",
   "execution_count": 161,
   "metadata": {},
   "outputs": [
    {
     "data": {
      "text/plain": [
       "True"
      ]
     },
     "execution_count": 161,
     "metadata": {},
     "output_type": "execute_result"
    }
   ],
   "source": [
    "os.path.isfile(polygons)"
   ]
  },
  {
   "cell_type": "code",
   "execution_count": 162,
   "metadata": {},
   "outputs": [
    {
     "data": {
      "text/markdown": [
       "<span style='color:black'>**Fields**</span>"
      ],
      "text/plain": [
       "<IPython.core.display.Markdown object>"
      ]
     },
     "metadata": {},
     "output_type": "display_data"
    },
    {
     "name": "stdout",
     "output_type": "stream",
     "text": [
      "['County', 'CID', 'CountyID', 'AreaSQKM', 'Shape_Leng', 'Shape_Area', 'Pop_Sumcou', 'Pop_Sumsum', 'geometry']\n",
      "County\n",
      "CID\n",
      "CountyID\n",
      "AreaSQKM\n",
      "Shape_Leng\n",
      "Shape_Area\n",
      "Pop_Sumcou\n",
      "Pop_Sumsum\n",
      "geometry\n"
     ]
    }
   ],
   "source": [
    "counties = gp.read_file(polygons)\n",
    "printmd('**Fields**', color='black')\n",
    "print(list(counties))\n",
    "for fld in list(counties):\n",
    "        print(fld)\n",
    "#counties.plot()"
   ]
  },
  {
   "cell_type": "code",
   "execution_count": 163,
   "metadata": {},
   "outputs": [
    {
     "name": "stdout",
     "output_type": "stream",
     "text": [
      "Fields\n",
      "----------\n",
      "County\n",
      "CID\n",
      "CountyID\n",
      "AreaSQKM\n",
      "Shape_Leng\n",
      "Shape_Area\n",
      "Pop_Sumcou\n",
      "Pop_Sumsum\n",
      "geometry\n"
     ]
    }
   ],
   "source": [
    "head = 'Fields'\n",
    "flds = ['County', 'CID', 'CountyID', 'AreaSQKM', 'Shape_Leng', 'Shape_Area', 'Pop_Sumcou', 'Pop_Sumsum', 'geometry']\n",
    "df = DataFrame({head: flds}).set_index(head)\n",
    "print(tabulate(df, tablefmt='markdown', headers='keys'))"
   ]
  },
  {
   "cell_type": "code",
   "execution_count": 174,
   "metadata": {},
   "outputs": [
    {
     "data": {
      "text/html": [
       "<table>\n",
       "<thead>\n",
       "<tr><th>Fields    </th></tr>\n",
       "</thead>\n",
       "<tbody>\n",
       "<tr><td>County    </td></tr>\n",
       "<tr><td>CID       </td></tr>\n",
       "<tr><td>CountyID  </td></tr>\n",
       "<tr><td>AreaSQKM  </td></tr>\n",
       "<tr><td>Shape_Leng</td></tr>\n",
       "<tr><td>Shape_Area</td></tr>\n",
       "<tr><td>Pop_Sumcou</td></tr>\n",
       "<tr><td>Pop_Sumsum</td></tr>\n",
       "<tr><td>geometry  </td></tr>\n",
       "</tbody>\n",
       "</table>"
      ],
      "text/plain": [
       "<IPython.core.display.HTML object>"
      ]
     },
     "metadata": {},
     "output_type": "display_data"
    }
   ],
   "source": [
    "tbl = [['Fields'],['County'], ['CID'], ['CountyID'], ['AreaSQKM'], ['Shape_Leng'], \n",
    "       ['Shape_Area'], ['Pop_Sumcou'], ['Pop_Sumsum'], ['geometry']]\n",
    "display(HTML(tabulate(tbl, headers=\"firstrow\", stralign=\"left\", tablefmt='html')))"
   ]
  },
  {
   "cell_type": "code",
   "execution_count": 173,
   "metadata": {},
   "outputs": [
    {
     "name": "stdout",
     "output_type": "stream",
     "text": [
      "<table>\n",
      "<thead>\n",
      "<tr><th>Fields    </th></tr>\n",
      "</thead>\n",
      "<tbody>\n",
      "<tr><td>County    </td></tr>\n",
      "<tr><td>CID       </td></tr>\n",
      "<tr><td>CountyID  </td></tr>\n",
      "<tr><td>AreaSQKM  </td></tr>\n",
      "<tr><td>Shape_Leng</td></tr>\n",
      "<tr><td>Shape_Area</td></tr>\n",
      "<tr><td>Pop_Sumcou</td></tr>\n",
      "<tr><td>Pop_Sumsum</td></tr>\n",
      "<tr><td>geometry  </td></tr>\n",
      "</tbody>\n",
      "</table>\n"
     ]
    }
   ],
   "source": [
    "tbl = [['Fields'],['County'], ['CID'], ['CountyID'], ['AreaSQKM'], ['Shape_Leng'], \n",
    "       ['Shape_Area'], ['Pop_Sumcou'], ['Pop_Sumsum'], ['geometry']]\n",
    "print(tabulate(tbl, headers=\"firstrow\", tablefmt='html'))"
   ]
  },
  {
   "cell_type": "code",
   "execution_count": null,
   "metadata": {},
   "outputs": [],
   "source": []
  }
 ],
 "metadata": {
  "kernelspec": {
   "display_name": "Python 3",
   "language": "python",
   "name": "python3"
  },
  "language_info": {
   "codemirror_mode": {
    "name": "ipython",
    "version": 3
   },
   "file_extension": ".py",
   "mimetype": "text/x-python",
   "name": "python",
   "nbconvert_exporter": "python",
   "pygments_lexer": "ipython3",
   "version": "3.6.7"
  }
 },
 "nbformat": 4,
 "nbformat_minor": 2
}
